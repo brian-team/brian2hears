{
  "nbformat_minor": 0, 
  "nbformat": 4, 
  "cells": [
    {
      "execution_count": null, 
      "cell_type": "code", 
      "source": [
        "%matplotlib inline"
      ], 
      "outputs": [], 
      "metadata": {
        "collapsed": false
      }
    }, 
    {
      "source": [
        "\nLinear Gammachirp filters\n-------------------------\nExample of the use of the class :class:`~brian2hears.LinearGammachirp` available\nin the library. It implements a filterbank of FIR gammatone filters with linear\nfrequency sweeps as described in Wagner et al. 2009, \"Auditory responses in the\nbarn owl's nucleus laminaris to clicks: impulse response and signal analysis of\nneurophonic potential\", J. Neurophysiol. In this example, a white noise is\nfiltered by a gammachirp filterbank and the resulting cochleogram is plotted.\nThe different impulse responses are also plotted.\n\n"
      ], 
      "cell_type": "markdown", 
      "metadata": {}
    }, 
    {
      "execution_count": null, 
      "cell_type": "code", 
      "source": [
        "from brian2 import *\nfrom brian2hears import *\n\nsound = whitenoise(100*ms).ramp()\nsound.level = 50*dB\n\nnbr_center_frequencies = 10  #number of frequency channels in the filterbank\n#center frequencies with a spacing following an ERB scale\ncenter_frequencies = erbspace(100*Hz, 1000*Hz, nbr_center_frequencies)\n\nc = 0.0 #glide slope\ntime_constant = linspace(3, 0.3, nbr_center_frequencies)*ms\n\ngamma_chirp = LinearGammachirp(sound, center_frequencies, time_constant, c) \n\ngamma_chirp_mon = gamma_chirp.process()\n\nfigure()\n\nimshow(gamma_chirp_mon.T, aspect='auto')    \nfigure()\nplot(gamma_chirp.impulse_response.T)\nshow()"
      ], 
      "outputs": [], 
      "metadata": {
        "collapsed": false
      }
    }
  ], 
  "metadata": {
    "kernelspec": {
      "display_name": "Python 2", 
      "name": "python2", 
      "language": "python"
    }, 
    "language_info": {
      "mimetype": "text/x-python", 
      "nbconvert_exporter": "python", 
      "name": "python", 
      "file_extension": ".py", 
      "version": "2.7.15", 
      "pygments_lexer": "ipython2", 
      "codemirror_mode": {
        "version": 2, 
        "name": "ipython"
      }
    }
  }
}