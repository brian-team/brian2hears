{
  "nbformat_minor": 0, 
  "nbformat": 4, 
  "cells": [
    {
      "execution_count": null, 
      "cell_type": "code", 
      "source": [
        "%matplotlib inline"
      ], 
      "outputs": [], 
      "metadata": {
        "collapsed": false
      }
    }, 
    {
      "source": [
        "\nGammatone filters\n-----------------\nExample of the use of the class :class:`~brian2hears.Gammatone` available in the\nlibrary. It implements a fitlerbank of IIR gammatone filters as \ndescribed  in Slaney, M., 1993, \"An Efficient Implementation of the\nPatterson-Holdsworth Auditory Filter Bank\". Apple Computer Technical Report #35. \nIn this example, a white noise is filtered by a gammatone filterbank and the\nresulting cochleogram is plotted.\n\n"
      ], 
      "cell_type": "markdown", 
      "metadata": {}
    }, 
    {
      "execution_count": null, 
      "cell_type": "code", 
      "source": [
        "from brian2 import *\nfrom brian2hears import *\nfrom matplotlib import pyplot\n\nsound = whitenoise(100*ms).ramp()\nsound.level = 50*dB\n\nnbr_center_frequencies = 50\nb1 = 1.019  #factor determining the time constant of the filters\n#center frequencies with a spacing following an ERB scale\ncenter_frequencies = erbspace(100*Hz, 1000*Hz, nbr_center_frequencies)\ngammatone = Gammatone(sound, center_frequencies, b=b1)\n\ngt_mon = gammatone.process()\n\nfigure()\nimshow(gt_mon.T, aspect='auto', origin='lower left',\n       extent=(0, sound.duration/ms,\n               center_frequencies[0]/Hz, center_frequencies[-1]/Hz))\npyplot.yscale('log')\ntitle('Cochleogram')\nylabel('Frequency (Hz)')\nxlabel('Time (ms)')\n\nshow()"
      ], 
      "outputs": [], 
      "metadata": {
        "collapsed": false
      }
    }
  ], 
  "metadata": {
    "kernelspec": {
      "display_name": "Python 2", 
      "name": "python2", 
      "language": "python"
    }, 
    "language_info": {
      "mimetype": "text/x-python", 
      "nbconvert_exporter": "python", 
      "name": "python", 
      "file_extension": ".py", 
      "version": "2.7.15", 
      "pygments_lexer": "ipython2", 
      "codemirror_mode": {
        "version": 2, 
        "name": "ipython"
      }
    }
  }
}