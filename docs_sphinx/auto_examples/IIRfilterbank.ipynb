{
  "cells": [
    {
      "cell_type": "code",
      "execution_count": null,
      "metadata": {
        "collapsed": false
      },
      "outputs": [],
      "source": [
        "%matplotlib inline"
      ]
    },
    {
      "cell_type": "markdown",
      "metadata": {},
      "source": [
        "\n# IIR filterbank\nExample of the use of the class :class:`~brian2hears.IIRFilterbank` available in\nthe library.  In this example, a white noise is filtered by a bank of chebyshev\nbandpass filters and lowpass filters which are different for every channels.\nThe centre frequencies of  the filters are linearly taken between 100kHz and\n1000kHz and its bandwidth or cutoff frequency increases linearly with frequency.\n"
      ]
    },
    {
      "cell_type": "code",
      "execution_count": null,
      "metadata": {
        "collapsed": false
      },
      "outputs": [],
      "source": [
        "from brian2 import *\nfrom brian2hears import *\n\nsound = whitenoise(100*ms).ramp()\nsound.level = 50*dB\n\n### example of a bank of bandpass filter ################\nnchannels = 50\ncenter_frequencies = linspace(200*Hz, 1000*Hz, nchannels)  #center frequencies \nbw = linspace(50*Hz, 300*Hz, nchannels)  #bandwidth of the filters\n# The maximum loss in the passband in dB. Can be a scalar or an array of length\n# nchannels\ngpass = 1.*dB\n# The minimum attenuation in the stopband in dB. Can be a scalar or an array\n# of length nchannels\ngstop = 10.*dB\n#arrays of shape (2 x nchannels) defining the passband frequencies (Hz)\npassband = vstack((center_frequencies-bw/2, center_frequencies+bw/2))\n#arrays of shape (2 x nchannels) defining the stopband frequencies (Hz)\nstopband = vstack((center_frequencies-1.1*bw, center_frequencies+1.1*bw))\n\nfilterbank = IIRFilterbank(sound, nchannels, passband, stopband, gpass, gstop,\n                           'bandstop', 'cheby1')\nfilterbank_mon = filterbank.process()\n\nfigure()\nsubplot(211)\nimshow(flipud(filterbank_mon.T), aspect='auto')    \n\n#### example of a bank of lowpass filter ################\nnchannels = 50\ncutoff_frequencies = linspace(100*Hz, 1000*Hz, nchannels)\n#bandwidth of the transition region between the en of the pass band and the\n#begin of the stop band \nwidth_transition = linspace(50*Hz, 300*Hz, nchannels)\n# The maximum loss in the passband in dB. Can be a scalar or an array of length\n# nchannels\ngpass = 1*dB\n# The minimum attenuation in the stopband in dB. Can be a scalar or an array of\n# length nchannels\ngstop = 10*dB\npassband = cutoff_frequencies-width_transition/2\nstopband = cutoff_frequencies+width_transition/2\n\nfilterbank = IIRFilterbank(sound, nchannels, passband, stopband, gpass, gstop,\n                           'low','cheby1')\nfilterbank_mon=filterbank.process()\n\nsubplot(212)\nimshow(flipud(filterbank_mon.T), aspect='auto')    \nshow()"
      ]
    }
  ],
  "metadata": {
    "kernelspec": {
      "display_name": "Python 3",
      "language": "python",
      "name": "python3"
    },
    "language_info": {
      "codemirror_mode": {
        "name": "ipython",
        "version": 3
      },
      "file_extension": ".py",
      "mimetype": "text/x-python",
      "name": "python",
      "nbconvert_exporter": "python",
      "pygments_lexer": "ipython3",
      "version": "3.8.6"
    }
  },
  "nbformat": 4,
  "nbformat_minor": 0
}