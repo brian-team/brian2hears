{
  "cells": [
    {
      "cell_type": "code",
      "execution_count": null,
      "metadata": {
        "collapsed": false
      },
      "outputs": [],
      "source": [
        "%matplotlib inline"
      ]
    },
    {
      "cell_type": "markdown",
      "metadata": {},
      "source": [
        "\n# Online computation\nExample of online computation using :meth:`~brian2hears.Filterbank.process`.\nPlots the RMS value of each channel output by a gammatone filterbank.\n"
      ]
    },
    {
      "cell_type": "code",
      "execution_count": null,
      "metadata": {
        "collapsed": false
      },
      "outputs": [],
      "source": [
        "from brian2 import *\nfrom brian2hears import *\n\nsound1 = tone(1*kHz, .1*second)\nsound2 = whitenoise(.1*second)\n\nsound = sound1+sound2\nsound = sound.ramp()\n\nsound.level = 60*dB\n\ncf = erbspace(20*Hz, 20*kHz, 3000)\nfb = Gammatone(sound, cf)\n\ndef sum_of_squares(input, running):\n    return running+sum(input**2, axis=0)\n\nrms = sqrt(fb.process(sum_of_squares)/sound.nsamples)\n\nsound_rms = sqrt(mean(sound**2))\n\naxhline(sound_rms, ls='--')\nplot(cf, rms)\nxlabel('Frequency (Hz)')\nylabel('RMS')\nshow()"
      ]
    }
  ],
  "metadata": {
    "kernelspec": {
      "display_name": "Python 3",
      "language": "python",
      "name": "python3"
    },
    "language_info": {
      "codemirror_mode": {
        "name": "ipython",
        "version": 3
      },
      "file_extension": ".py",
      "mimetype": "text/x-python",
      "name": "python",
      "nbconvert_exporter": "python",
      "pygments_lexer": "ipython3",
      "version": "3.8.6"
    }
  },
  "nbformat": 4,
  "nbformat_minor": 0
}