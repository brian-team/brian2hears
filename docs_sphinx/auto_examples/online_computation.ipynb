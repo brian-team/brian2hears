{
  "nbformat_minor": 0, 
  "nbformat": 4, 
  "cells": [
    {
      "execution_count": null, 
      "cell_type": "code", 
      "source": [
        "%matplotlib inline"
      ], 
      "outputs": [], 
      "metadata": {
        "collapsed": false
      }
    }, 
    {
      "source": [
        "\nOnline computation\n------------------\nExample of online computation using :meth:`~brian2hears.Filterbank.process`.\nPlots the RMS value of each channel output by a gammatone filterbank.\n\n"
      ], 
      "cell_type": "markdown", 
      "metadata": {}
    }, 
    {
      "execution_count": null, 
      "cell_type": "code", 
      "source": [
        "from brian2 import *\nfrom brian2hears import *\n\nsound1 = tone(1*kHz, .1*second)\nsound2 = whitenoise(.1*second)\n\nsound = sound1+sound2\nsound = sound.ramp()\n\nsound.level = 60*dB\n\ncf = erbspace(20*Hz, 20*kHz, 3000)\nfb = Gammatone(sound, cf)\n\ndef sum_of_squares(input, running):\n    return running+sum(input**2, axis=0)\n\nrms = sqrt(fb.process(sum_of_squares)/sound.nsamples)\n\nsound_rms = sqrt(mean(sound**2))\n\naxhline(sound_rms, ls='--')\nplot(cf, rms)\nxlabel('Frequency (Hz)')\nylabel('RMS')\nshow()"
      ], 
      "outputs": [], 
      "metadata": {
        "collapsed": false
      }
    }
  ], 
  "metadata": {
    "kernelspec": {
      "display_name": "Python 2", 
      "name": "python2", 
      "language": "python"
    }, 
    "language_info": {
      "mimetype": "text/x-python", 
      "nbconvert_exporter": "python", 
      "name": "python", 
      "file_extension": ".py", 
      "version": "2.7.15", 
      "pygments_lexer": "ipython2", 
      "codemirror_mode": {
        "version": 2, 
        "name": "ipython"
      }
    }
  }
}