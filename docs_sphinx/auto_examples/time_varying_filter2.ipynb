{
  "nbformat_minor": 0, 
  "nbformat": 4, 
  "cells": [
    {
      "execution_count": null, 
      "cell_type": "code", 
      "source": [
        "%matplotlib inline"
      ], 
      "outputs": [], 
      "metadata": {
        "collapsed": false
      }
    }, 
    {
      "source": [
        "\nTime varying filter (2)\n-----------------------\nThis example implements a band pass filter whose center frequency is modulated by\na sinusoid function. This modulator is implemented as a\n:class:`~brian2hears.FunctionFilterbank`. One  state variable (here time) must\nbe kept; it is therefore implemented with a class.\nThe bandpass filter coefficients update is an example of how to use a\n:class:`~brian2hears.ControlFilterbank`. The bandpass filter is a basic\nbiquadratic filter for which the Q factor and the center\nfrequency must be given. The input is a white noise.\n\n"
      ], 
      "cell_type": "markdown", 
      "metadata": {}
    }, 
    {
      "execution_count": null, 
      "cell_type": "code", 
      "source": [
        "from brian2 import *\nfrom brian2hears import *\n\n\nsamplerate = 20*kHz\nSoundDuration = 300*ms\nsound = whitenoise(SoundDuration, samplerate).ramp() \n\n#number of frequency channel (here it must be one as a spectrogram of the\n#output is plotted)\nnchannels = 1   \n\nfc_init = 5000*Hz   #initial center frequency of the band pass filter\nQ = 5               #quality factor of the band pass filter\nupdate_interval = 1 # the filter coefficients are updated every sample\n\nmean_center_freq = 4*kHz #mean frequency around which the CF will oscillate\namplitude = 1500*Hz      #amplitude of the oscillation\nfrequency = 10*Hz        #frequency of the oscillation\n\n#this class is used in a FunctionFilterbank (via its __call__). It outputs the\n#center frequency of the band pass filter. Its output is thus later passed as\n#input to the controler. \nclass CenterFrequencyGenerator(object):\n    def __init__(self): \n        self.t=0*second\n   \n    def __call__(self, input):\n        #update of the center frequency\n        fc = mean_center_freq+amplitude*sin(2*pi*frequency*self.t)\n        #update of the state variable\n        self.t = self.t+1./samplerate \n        return fc\n\ncenter_frequency = CenterFrequencyGenerator()      \n\nfc_generator = FunctionFilterbank(sound, center_frequency)\n\n#the updater of the controller generates new filter coefficient of the band pass\n#filter based on the center frequency it receives from the fc_generator\n#(its input)\nclass CoeffController(object):\n    def __init__(self, target):\n        self.BW = 2*arcsinh(1./2/Q)*1.44269\n        self.target=target\n        \n    def __call__(self, input):\n        fc = input[-1,:] #the control variables are taken as the last of the buffer\n        w0 = 2*pi*fc/array(samplerate)    \n        alpha = sin(w0)*sinh(log(2)/2*self.BW*w0/sin(w0))\n        \n        self.target.filt_b[:, 0, 0] = sin(w0)/2\n        self.target.filt_b[:, 1, 0] = 0\n        self.target.filt_b[:, 2, 0] = -sin(w0)/2\n     \n        self.target.filt_a[:, 0, 0] = 1+alpha\n        self.target.filt_a[:, 1, 0] = -2*cos(w0)\n        self.target.filt_a[:, 2, 0] = 1-alpha\n\n# In the present example the time varying filter is a LinearFilterbank therefore\n#we must initialise the filter coefficients; the one used for the first buffer computation\nw0 = 2*pi*fc_init/samplerate\nBW = 2*arcsinh(1./2/Q)*1.44269\nalpha = sin(w0)*sinh(log(2)/2*BW*w0/sin(w0))\n\nfilt_b = zeros((nchannels, 3, 1))\nfilt_a = zeros((nchannels, 3, 1))\n\nfilt_b[:, 0, 0] = sin(w0)/2\nfilt_b[:, 1, 0] = 0\nfilt_b[:, 2, 0] = -sin(w0)/2\n\nfilt_a[:, 0, 0] = 1+alpha\nfilt_a[:, 1, 0] = -2*cos(w0)\nfilt_a[:, 2, 0] = 1-alpha\n\n#the filter which will have time varying coefficients\nbandpass_filter = LinearFilterbank(sound, filt_b, filt_a)\n#the updater\nupdater = CoeffController(bandpass_filter)\n\n#the controller. Remember it must be the last of the chain\ncontrol = ControlFilterbank(bandpass_filter, fc_generator, bandpass_filter,\n                            updater, update_interval)   \n      \ntime_varying_filter_mon = control.process()\n\nfigure(1)\npxx, freqs, bins, im = specgram(squeeze(time_varying_filter_mon),\n                                NFFT=256, Fs=float(samplerate), noverlap=240)\nimshow(flipud(pxx), aspect='auto')\n\nshow()"
      ], 
      "outputs": [], 
      "metadata": {
        "collapsed": false
      }
    }
  ], 
  "metadata": {
    "kernelspec": {
      "display_name": "Python 2", 
      "name": "python2", 
      "language": "python"
    }, 
    "language_info": {
      "mimetype": "text/x-python", 
      "nbconvert_exporter": "python", 
      "name": "python", 
      "file_extension": ".py", 
      "version": "2.7.15", 
      "pygments_lexer": "ipython2", 
      "codemirror_mode": {
        "version": 2, 
        "name": "ipython"
      }
    }
  }
}