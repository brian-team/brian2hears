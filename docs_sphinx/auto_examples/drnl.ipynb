{
  "cells": [
    {
      "cell_type": "code",
      "execution_count": null,
      "metadata": {
        "collapsed": false
      },
      "outputs": [],
      "source": [
        "%matplotlib inline"
      ]
    },
    {
      "cell_type": "markdown",
      "metadata": {},
      "source": [
        "\n# Dual resonance nonlinear filter (DRNL)\nImplementation example of the dual resonance nonlinear (DRNL) filter with\nparameters fitted for human as described in Lopez-Paveda, E. and Meddis, R., A\nhuman nonlinear cochlear filterbank, JASA 2001.\n\nA class called :class:`~brian2hears.DRNL` implementing this model is available\nin the library.\n\nThe entire pathway consists of the sum of a linear and a nonlinear pathway.\n\nThe linear path consists of a bank of bandpass filters (second order gammatone),\na low pass function, and a gain/attenuation factor, g, in a cascade.\n\nThe nonlinear path is  a cascade consisting of a bank of gammatone filters, a\ncompression function, a second bank of gammatone filters, and a low\npass function, in that order.\n\nThe parameters are given in the form ``10**(p0+mlog10(cf))``.\n"
      ]
    },
    {
      "cell_type": "code",
      "execution_count": null,
      "metadata": {
        "collapsed": false
      },
      "outputs": [],
      "source": [
        "from brian2 import *\nfrom brian2hears import *\n\nsimulation_duration = 50*ms\nsamplerate = 50*kHz\nlevel = 50*dB  # level of the input sound in rms dB SPL\nsound = whitenoise(simulation_duration, samplerate).ramp()\nsound.level = level\n \nnbr_cf = 50  #number of centre frequencies\n#center frequencies with a spacing following an ERB scale\ncenter_frequencies = erbspace(100*Hz,1000*Hz, nbr_cf)\ncenter_frequencies = asarray(center_frequencies) # avoid units issues\n\n#conversion to stape velocity (which are the units needed by the following centres)\nsound = sound*0.00014\n\n#### Linear Pathway ####\n\n#bandpass filter (second order gammatone filter)\ncenter_frequencies_linear = 10**(-0.067+1.016*log10(center_frequencies))\nbandwidth_linear = 10**(0.037+0.785*log10(center_frequencies))\norder_linear = 3\ngammatone = ApproximateGammatone(sound, center_frequencies_linear,\n                                 bandwidth_linear, order=order_linear)\n\n#linear gain\ng = 10**(4.2-0.48*log10(center_frequencies))\nfunc_gain = lambda x:g*x\ngain = FunctionFilterbank(gammatone, func_gain)\n\n#low pass filter(cascade of 4 second order lowpass butterworth filters)\ncutoff_frequencies_linear = center_frequencies_linear\norder_lowpass_linear = 2\nlp_l = LowPass(gain, cutoff_frequencies_linear)\nlowpass_linear = Cascade(gain, lp_l, 4)\n\n#### Nonlinear Pathway ####\n\n#bandpass filter (third order gammatone filters)\ncenter_frequencies_nonlinear = center_frequencies\nbandwidth_nonlinear = 10**(-0.031+0.774*log10(center_frequencies))\norder_nonlinear = 3\nbandpass_nonlinear1 = ApproximateGammatone(sound, center_frequencies_nonlinear,\n                                           bandwidth_nonlinear,\n                                           order=order_nonlinear)\n\n#compression (linear at low level, compress at high level)\na = 10**(1.402+0.819*log10(center_frequencies))  #linear gain\nb = 10**(1.619-0.818*log10(center_frequencies))  \nv = .2 #compression exponent\nfunc_compression = lambda x: sign(x)*minimum(a*abs(x), b*abs(x)**v)\ncompression = FunctionFilterbank(bandpass_nonlinear1, func_compression)\n\n#bandpass filter (third order gammatone filters)\nbandpass_nonlinear2 = ApproximateGammatone(compression,\n                                           center_frequencies_nonlinear,\n                                           bandwidth_nonlinear,\n                                           order=order_nonlinear)\n\n#low pass filter\ncutoff_frequencies_nonlinear = center_frequencies_nonlinear\norder_lowpass_nonlinear = 2\nlp_nl = LowPass(bandpass_nonlinear2, cutoff_frequencies_nonlinear)\nlowpass_nonlinear = Cascade(bandpass_nonlinear2, lp_nl, 3)\n\n#adding the two pathways\ndnrl_filter = lowpass_linear+lowpass_nonlinear\n\ndnrl = dnrl_filter.process()\n\nfigure()\nimshow(flipud(dnrl.T), aspect='auto')    \nshow()"
      ]
    }
  ],
  "metadata": {
    "kernelspec": {
      "display_name": "Python 3",
      "language": "python",
      "name": "python3"
    },
    "language_info": {
      "codemirror_mode": {
        "name": "ipython",
        "version": 3
      },
      "file_extension": ".py",
      "mimetype": "text/x-python",
      "name": "python",
      "nbconvert_exporter": "python",
      "pygments_lexer": "ipython3",
      "version": "3.8.6"
    }
  },
  "nbformat": 4,
  "nbformat_minor": 0
}