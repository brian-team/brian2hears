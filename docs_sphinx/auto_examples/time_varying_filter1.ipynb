{
  "cells": [
    {
      "cell_type": "code",
      "execution_count": null,
      "metadata": {
        "collapsed": false
      },
      "outputs": [],
      "source": [
        "%matplotlib inline"
      ]
    },
    {
      "cell_type": "markdown",
      "metadata": {},
      "source": [
        "\n# Time varying filter (1)\nThis example implements a band pass filter whose center frequency is modulated\nby an Ornstein-Uhlenbeck. The white noise term used for this process is output\nby a FunctionFilterbank. The bandpass filter coefficients update is an example\nof how to use a :class:`~brian2hears.ControlFilterbank`. The bandpass filter is\na basic biquadratic filter for which the Q factor and the center frequency must\nbe given. The input is a white noise.\n"
      ]
    },
    {
      "cell_type": "code",
      "execution_count": null,
      "metadata": {
        "collapsed": false
      },
      "outputs": [],
      "source": [
        "from brian2 import *\nfrom brian2hears import *\n\nsamplerate = 20*kHz\nSoundDuration = 300*ms\nsound = whitenoise(SoundDuration, samplerate).ramp() \n\n#number of frequency channel (here it must be one as a spectrogram of the\n#output is plotted)\nnchannels = 1   \n\nfc_init = 5000*Hz   #initial center frequency of the band pass filter\nQ = 5               #quality factor of the band pass filter\nupdate_interval = 4 # the filter coefficients are updated every 4 samples\n\n#parameters of the Ornstein-Uhlenbeck process\ns_i = 1200*Hz\ntau_i = 100*ms      \nmu_i = fc_init/tau_i\nsigma_i = sqrt(2)*s_i/sqrt(tau_i)\ndeltaT = defaultclock.dt\n\n#this function  is used in a FunctionFilterbank. It outputs a noise term that\n#will be later used by the controler to update the center frequency\nnoise = lambda x: mu_i*deltaT+sigma_i*randn(1)*sqrt(deltaT)\nnoise_generator = FunctionFilterbank(sound, noise)\n\n#this class will take as input the output of the noise generator and as target\n#the bandpass filter center frequency\nclass CoeffController(object):\n    def __init__(self, target):\n        self.target = target\n        self.deltaT = 1./samplerate\n        self.BW = 2*arcsinh(1./2/Q)*1.44269\n        self.fc = fc_init\n        \n    def __call__(self, input):\n        #the control variables are taken as the last of the buffer\n        noise_term = input[-1,:]\n        #update the center frequency by updateing the OU process\n        self.fc = asarray(self.fc-self.fc/tau_i*self.deltaT)+noise_term\n\n        w0 = 2*pi*self.fc/float(samplerate)\n        #update the coefficient of the biquadratic filterbank\n        alpha = sin(w0)*sinh(log(2)/2*self.BW*w0/sin(w0))\n        self.target.filt_b[:, 0, 0] = sin(w0)/2\n        self.target.filt_b[:, 1, 0] = 0\n        self.target.filt_b[:, 2, 0] = -sin(w0)/2\n    \n        self.target.filt_a[:, 0, 0] = 1+alpha\n        self.target.filt_a[:, 1, 0] = -2*cos(w0)\n        self.target.filt_a[:, 2, 0] = 1-alpha\n        \n# In the present example the time varying filter is a LinearFilterbank therefore\n#we must initialise the filter coefficients; the one used for the first buffer computation\nw0 = 2*pi*fc_init/samplerate\nBW = 2*arcsinh(1./2/Q)*1.44269\nalpha = sin(w0)*sinh(log(2)/2*BW*w0/sin(w0))\n\nfilt_b = zeros((nchannels, 3, 1))\nfilt_a = zeros((nchannels, 3, 1))\nfilt_b[:, 0, 0] = sin(w0)/2\nfilt_b[:, 1, 0] = 0\nfilt_b[:, 2, 0] = -sin(w0)/2\nfilt_a[:, 0, 0] = 1+alpha\nfilt_a[:, 1, 0] = -2*cos(w0)\nfilt_a[:, 2, 0] = 1-alpha\n\n#the filter which will have time varying coefficients\nbandpass_filter = LinearFilterbank(sound, filt_b, filt_a)\n#the updater\nupdater = CoeffController(bandpass_filter)\n\n#the controller. Remember it must be the last of the chain\ncontrol = ControlFilterbank(bandpass_filter, noise_generator, bandpass_filter,\n                            updater, update_interval)          \n\ntime_varying_filter_mon = control.process()\n\nfigure(1)\npxx, freqs, bins, im = specgram(squeeze(time_varying_filter_mon),\n                                NFFT=256, Fs=float(samplerate), noverlap=240)\nimshow(flipud(pxx), aspect='auto')\n\nshow()"
      ]
    }
  ],
  "metadata": {
    "kernelspec": {
      "display_name": "Python 3",
      "language": "python",
      "name": "python3"
    },
    "language_info": {
      "codemirror_mode": {
        "name": "ipython",
        "version": 3
      },
      "file_extension": ".py",
      "mimetype": "text/x-python",
      "name": "python",
      "nbconvert_exporter": "python",
      "pygments_lexer": "ipython3",
      "version": "3.8.6"
    }
  },
  "nbformat": 4,
  "nbformat_minor": 0
}