{
  "cells": [
    {
      "cell_type": "code",
      "execution_count": null,
      "metadata": {
        "collapsed": false
      },
      "outputs": [],
      "source": [
        "%matplotlib inline"
      ]
    },
    {
      "cell_type": "markdown",
      "metadata": {},
      "source": [
        "\n# Cochlear models\nExample of the use of the cochlear models (:class:`~brian2hears.DRNL`,\n:class:`~brian2hears.DCGC` and :class:`~brian2hears.TanCarney`) available in the library.\n"
      ]
    },
    {
      "cell_type": "code",
      "execution_count": null,
      "metadata": {
        "collapsed": false
      },
      "outputs": [],
      "source": [
        "from brian2 import *\nfrom brian2hears import *\n\nsimulation_duration = 50*ms\nset_default_samplerate(50*kHz)\nsound = whitenoise(simulation_duration)\nsound = sound.atlevel(50*dB) # level in rms dB SPL\ncf = erbspace(100*Hz, 1000*Hz, 50) # centre frequencies\n\nparam_drnl = {}\nparam_drnl['lp_nl_cutoff_m'] = 1.1\n\nparam_dcgc = {}\nparam_dcgc['c1'] = -2.96\n\nfigure(figsize=(10, 4))\nfor i, (model, param) in enumerate([(DRNL, param_drnl),\n                                    (DCGC, param_dcgc),\n                                    (TanCarney, None)]):\n    fb = model(sound, cf, param=param)\n    out = fb.process()\n    subplot(1, 3, i+1)\n    title(model.__name__)\n    imshow(flipud(out.T), aspect='auto', extent=(0, simulation_duration/ms, 0, len(cf)-1))\n    xlabel('Time (ms)')\n    if i==0:\n        ylabel('CF (kHz)')\n        yticks([0, len(cf)-1], [cf[0]/kHz, cf[-1]/kHz])\n    else:\n        yticks([])\n\ntight_layout()\nshow()"
      ]
    }
  ],
  "metadata": {
    "kernelspec": {
      "display_name": "Python 3",
      "language": "python",
      "name": "python3"
    },
    "language_info": {
      "codemirror_mode": {
        "name": "ipython",
        "version": 3
      },
      "file_extension": ".py",
      "mimetype": "text/x-python",
      "name": "python",
      "nbconvert_exporter": "python",
      "pygments_lexer": "ipython3",
      "version": "3.8.6"
    }
  },
  "nbformat": 4,
  "nbformat_minor": 0
}