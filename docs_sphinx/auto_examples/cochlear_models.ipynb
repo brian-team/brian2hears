{
  "nbformat_minor": 0, 
  "nbformat": 4, 
  "cells": [
    {
      "execution_count": null, 
      "cell_type": "code", 
      "source": [
        "%matplotlib inline"
      ], 
      "outputs": [], 
      "metadata": {
        "collapsed": false
      }
    }, 
    {
      "source": [
        "\nCochlear models\n---------------\nExample of the use of the cochlear models (:class:`~brian2hears.DRNL`,\n:class:`~brian2hears.DCGC` and :class:`~brian2hears.TanCarney`) available in the library.\n\n"
      ], 
      "cell_type": "markdown", 
      "metadata": {}
    }, 
    {
      "execution_count": null, 
      "cell_type": "code", 
      "source": [
        "from brian2 import *\nfrom brian2hears import *\n\nsimulation_duration = 50*ms\nset_default_samplerate(50*kHz)\nsound = whitenoise(simulation_duration)\nsound = sound.atlevel(50*dB) # level in rms dB SPL\ncf = erbspace(100*Hz, 1000*Hz, 50) # centre frequencies\n\nparam_drnl = {}\nparam_drnl['lp_nl_cutoff_m'] = 1.1\n\nparam_dcgc = {}\nparam_dcgc['c1'] = -2.96\n\nfigure(figsize=(10, 4))\nfor i, (model, param) in enumerate([(DRNL, param_drnl),\n                                    (DCGC, param_dcgc),\n                                    (TanCarney, None)]):\n    fb = model(sound, cf, param=param)\n    out = fb.process()\n    subplot(1, 3, i+1)\n    title(model.__name__)\n    imshow(flipud(out.T), aspect='auto', extent=(0, simulation_duration/ms, 0, len(cf)-1))\n    xlabel('Time (ms)')\n    if i==0:\n        ylabel('CF (kHz)')\n        yticks([0, len(cf)-1], [cf[0]/kHz, cf[-1]/kHz])\n    else:\n        yticks([])\n\ntight_layout()\nshow()"
      ], 
      "outputs": [], 
      "metadata": {
        "collapsed": false
      }
    }
  ], 
  "metadata": {
    "kernelspec": {
      "display_name": "Python 2", 
      "name": "python2", 
      "language": "python"
    }, 
    "language_info": {
      "mimetype": "text/x-python", 
      "nbconvert_exporter": "python", 
      "name": "python", 
      "file_extension": ".py", 
      "version": "2.7.15", 
      "pygments_lexer": "ipython2", 
      "codemirror_mode": {
        "version": 2, 
        "name": "ipython"
      }
    }
  }
}