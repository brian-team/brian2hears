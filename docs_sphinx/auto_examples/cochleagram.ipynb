{
  "nbformat_minor": 0, 
  "nbformat": 4, 
  "cells": [
    {
      "execution_count": null, 
      "cell_type": "code", 
      "source": [
        "%matplotlib inline"
      ], 
      "outputs": [], 
      "metadata": {
        "collapsed": false
      }
    }, 
    {
      "source": [
        "\nCochleagram\n-----------\nExample of basic filtering of a sound with Brian hears.\nThis example implements a cochleagram based on a gammatone filterbank\nfollowed by halfwave rectification, cube root compression and 10 Hz\nlow pass filtering.\n\n"
      ], 
      "cell_type": "markdown", 
      "metadata": {}
    }, 
    {
      "execution_count": null, 
      "cell_type": "code", 
      "source": [
        "from brian2 import *\nfrom brian2hears import *\n\nsound1 = tone(1*kHz, .1*second)\nsound2 = whitenoise(.1*second)\n\nsound = sound1+sound2\nsound = sound.ramp()\n\ncf = erbspace(20*Hz, 20*kHz, 3000)\ngammatone = Gammatone(sound, cf)\ncochlea = FunctionFilterbank(gammatone, lambda x: clip(x, 0, Inf)**(1.0/3.0))\nlowpass = LowPass(cochlea, 10*Hz)\noutput = lowpass.process()\n\nimshow(output.T, origin='lower', aspect='auto', vmin=0)\nshow()"
      ], 
      "outputs": [], 
      "metadata": {
        "collapsed": false
      }
    }
  ], 
  "metadata": {
    "kernelspec": {
      "display_name": "Python 2", 
      "name": "python2", 
      "language": "python"
    }, 
    "language_info": {
      "mimetype": "text/x-python", 
      "nbconvert_exporter": "python", 
      "name": "python", 
      "file_extension": ".py", 
      "version": "2.7.15", 
      "pygments_lexer": "ipython2", 
      "codemirror_mode": {
        "version": 2, 
        "name": "ipython"
      }
    }
  }
}