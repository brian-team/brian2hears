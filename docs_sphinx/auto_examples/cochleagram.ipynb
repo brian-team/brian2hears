{
  "cells": [
    {
      "cell_type": "code",
      "execution_count": null,
      "metadata": {
        "collapsed": false
      },
      "outputs": [],
      "source": [
        "%matplotlib inline"
      ]
    },
    {
      "cell_type": "markdown",
      "metadata": {},
      "source": [
        "\n# Cochleagram\nExample of basic filtering of a sound with Brian hears.\nThis example implements a cochleagram based on a gammatone filterbank\nfollowed by halfwave rectification, cube root compression and 10 Hz\nlow pass filtering.\n"
      ]
    },
    {
      "cell_type": "code",
      "execution_count": null,
      "metadata": {
        "collapsed": false
      },
      "outputs": [],
      "source": [
        "from brian2 import *\nfrom brian2hears import *\n\nsound1 = tone(1*kHz, .1*second)\nsound2 = whitenoise(.1*second)\n\nsound = sound1+sound2\nsound = sound.ramp()\n\ncf = erbspace(20*Hz, 20*kHz, 3000)\ngammatone = Gammatone(sound, cf)\ncochlea = FunctionFilterbank(gammatone, lambda x: clip(x, 0, Inf)**(1.0/3.0))\nlowpass = LowPass(cochlea, 10*Hz)\noutput = lowpass.process()\n\nimshow(output.T, origin='lower', aspect='auto', vmin=0)\nshow()"
      ]
    }
  ],
  "metadata": {
    "kernelspec": {
      "display_name": "Python 3",
      "language": "python",
      "name": "python3"
    },
    "language_info": {
      "codemirror_mode": {
        "name": "ipython",
        "version": 3
      },
      "file_extension": ".py",
      "mimetype": "text/x-python",
      "name": "python",
      "nbconvert_exporter": "python",
      "pygments_lexer": "ipython3",
      "version": "3.8.6"
    }
  },
  "nbformat": 4,
  "nbformat_minor": 0
}