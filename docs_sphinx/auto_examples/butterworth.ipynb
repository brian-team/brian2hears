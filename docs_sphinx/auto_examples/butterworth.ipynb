{
  "cells": [
    {
      "cell_type": "code",
      "execution_count": null,
      "metadata": {
        "collapsed": false
      },
      "outputs": [],
      "source": [
        "%matplotlib inline"
      ]
    },
    {
      "cell_type": "markdown",
      "metadata": {},
      "source": [
        "\n# Butterworth filters\nExample of the use of the class :class:`~brian2hears.Butterworth` available in\nthe library. In this example, a white noise is filtered by a bank of butterworth\nbandpass filters and lowpass filters which are different for every channels. The\ncentre or cutoff frequency of the filters are linearly taken between 100kHz and\n1000kHz and its bandwidth frequency increases linearly with frequency.\n"
      ]
    },
    {
      "cell_type": "code",
      "execution_count": null,
      "metadata": {
        "collapsed": false
      },
      "outputs": [],
      "source": [
        "from brian2 import *\nfrom brian2hears import *\n\nlevel = 50*dB  # level of the input sound in rms dB SPL\nsound = whitenoise(100*ms).ramp()\nsound = sound.atlevel(level)\norder = 2 #order of the filters\n\n#### example of a bank of bandpass filter ################\nnchannels = 50\ncenter_frequencies = linspace(100*Hz, 1000*Hz, nchannels) \nbw = linspace(50*Hz, 300*Hz, nchannels) # bandwidth of the filters\n#arrays of shape (2 x nchannels) defining the passband frequencies (Hz)\nfc = vstack((center_frequencies-bw/2, center_frequencies+bw/2))\n\nfilterbank = Butterworth(sound, nchannels, order, fc, 'bandpass')\n\nfilterbank_mon = filterbank.process()\n\nfigure()\nsubplot(211)\nimshow(flipud(filterbank_mon.T), aspect='auto')    \n\n### example of a bank of lowpass filter ################\nnchannels = 50\ncutoff_frequencies = linspace(200*Hz, 1000*Hz, nchannels) \n\nfilterbank = Butterworth(sound, nchannels, order, cutoff_frequencies, 'low')\n\nfilterbank_mon = filterbank.process()\n\nsubplot(212)\nimshow(flipud(filterbank_mon.T), aspect='auto')    \nshow()"
      ]
    }
  ],
  "metadata": {
    "kernelspec": {
      "display_name": "Python 3",
      "language": "python",
      "name": "python3"
    },
    "language_info": {
      "codemirror_mode": {
        "name": "ipython",
        "version": 3
      },
      "file_extension": ".py",
      "mimetype": "text/x-python",
      "name": "python",
      "nbconvert_exporter": "python",
      "pygments_lexer": "ipython3",
      "version": "3.8.6"
    }
  },
  "nbformat": 4,
  "nbformat_minor": 0
}