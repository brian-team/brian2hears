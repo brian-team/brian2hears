{
  "nbformat_minor": 0, 
  "nbformat": 4, 
  "cells": [
    {
      "execution_count": null, 
      "cell_type": "code", 
      "source": [
        "%matplotlib inline"
      ], 
      "outputs": [], 
      "metadata": {
        "collapsed": false
      }
    }, 
    {
      "source": [
        "\nLogarithmic Gammachirp filters\n------------------------------\nExample of the use of the class :class:`~brian2hears.LogGammachirp` available in\nthe library. It implements a filterbank of IIR gammachirp filters as \nUnoki et al. 2001, \"Improvement of an IIR asymmetric compensation gammachirp\nfilter\". In this example, a white noise is filtered by a linear gammachirp\nfilterbank and the resulting cochleogram is plotted. The different impulse\nresponses are also plotted.\n\n"
      ], 
      "cell_type": "markdown", 
      "metadata": {}
    }, 
    {
      "execution_count": null, 
      "cell_type": "code", 
      "source": [
        "from brian2 import *\nfrom brian2hears import *\n\nsound = whitenoise(100*ms).ramp()\nsound.level = 50*dB\n\nnbr_center_frequencies = 50  #number of frequency channels in the filterbank\n\nc1 = -2.96 #glide slope\nb1 = 1.81  #factor determining the time constant of the filters\n\n#center frequencies with a spacing following an ERB scale\ncf = erbspace(100*Hz, 1000*Hz, nbr_center_frequencies)\n\ngamma_chirp = LogGammachirp(sound, cf, c=c1, b=b1) \n\ngamma_chirp_mon = gamma_chirp.process()\n\nfigure()\nimshow(flipud(gamma_chirp_mon.T), aspect='auto')    \nshow()"
      ], 
      "outputs": [], 
      "metadata": {
        "collapsed": false
      }
    }
  ], 
  "metadata": {
    "kernelspec": {
      "display_name": "Python 2", 
      "name": "python2", 
      "language": "python"
    }, 
    "language_info": {
      "mimetype": "text/x-python", 
      "nbconvert_exporter": "python", 
      "name": "python", 
      "file_extension": ".py", 
      "version": "2.7.15", 
      "pygments_lexer": "ipython2", 
      "codemirror_mode": {
        "version": 2, 
        "name": "ipython"
      }
    }
  }
}