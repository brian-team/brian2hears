{
 "cells": [
  {
   "cell_type": "code",
   "execution_count": null,
   "metadata": {
    "collapsed": false
   },
   "outputs": [],
   "source": [
    "%matplotlib inline"
   ]
  },
  {
   "cell_type": "markdown",
   "metadata": {},
   "source": [
    "\n",
    "# Approximate Gammatone filters\n",
    "\n",
    "Example of the use of the class :class:`~brian2hears.ApproximateGammatone`\n",
    "available in the library. It implements a filterbank of approximate gammatone\n",
    "filters as  described in Hohmann, V., 2002, \"Frequency analysis and synthesis\n",
    "using a Gammatone filterbank\", Acta Acustica United with Acustica. \n",
    "In this example, a white noise is filtered by a gammatone filterbank and the\n",
    "resulting cochleogram is plotted.\n"
   ]
  },
  {
   "cell_type": "code",
   "execution_count": null,
   "metadata": {
    "collapsed": false
   },
   "outputs": [],
   "source": [
    "from brian2 import *\nfrom brian2hears import whitenoise, erbspace, dB\nfrom brian2hears.filtering.filterbanklibrary import ApproximateGammatone\n\nlevel=50*dB # level of the input sound in rms dB SPL\nsound = whitenoise(100*ms).ramp() # generation of a white noise\nsound = sound.atlevel(level) # set the sound to a certain dB level\n\nnbr_center_frequencies = 50  # number of frequency channels in the filterbank\n# center frequencies with a spacing following an ERB scale\ncenter_frequencies = erbspace(100*Hz, 1000*Hz, nbr_center_frequencies)\n# bandwidth of the filters (different in each channel) \nbw = 10**(0.037+0.785*log10(center_frequencies/Hz))\n\ngammatone = ApproximateGammatone(sound, center_frequencies, bw, order=3) \n\ngt_mon = gammatone.process()\n\nfigure()\nimshow(flipud(gt_mon.T), aspect='auto')    \nshow()"
   ]
  }
 ],
 "metadata": {
  "kernelspec": {
   "display_name": "Python 3",
   "language": "python",
   "name": "python3"
  },
  "language_info": {
   "codemirror_mode": {
    "name": "ipython",
    "version": 3
   },
   "file_extension": ".py",
   "mimetype": "text/x-python",
   "name": "python",
   "nbconvert_exporter": "python",
   "pygments_lexer": "ipython3",
   "version": "3.8.6"
  }
 },
 "nbformat": 4,
 "nbformat_minor": 0
}