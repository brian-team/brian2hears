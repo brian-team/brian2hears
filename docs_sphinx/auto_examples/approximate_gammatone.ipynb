{
  "nbformat_minor": 0, 
  "nbformat": 4, 
  "cells": [
    {
      "execution_count": null, 
      "cell_type": "code", 
      "source": [
        "%matplotlib inline"
      ], 
      "outputs": [], 
      "metadata": {
        "collapsed": false
      }
    }, 
    {
      "source": [
        "\nApproximate Gammatone filters\n-----------------------------\n\nExample of the use of the class :class:`~brian2hears.ApproximateGammatone`\navailable in the library. It implements a filterbank of approximate gammatone\nfilters as  described in Hohmann, V., 2002, \"Frequency analysis and synthesis\nusing a Gammatone filterbank\", Acta Acustica United with Acustica. \nIn this example, a white noise is filtered by a gammatone filterbank and the\nresulting cochleogram is plotted.\n\n"
      ], 
      "cell_type": "markdown", 
      "metadata": {}
    }, 
    {
      "execution_count": null, 
      "cell_type": "code", 
      "source": [
        "from brian2 import *\nfrom brian2hears import whitenoise, erbspace, dB\nfrom brian2hears.filtering.filterbanklibrary import ApproximateGammatone\n\nlevel=50*dB # level of the input sound in rms dB SPL\nsound = whitenoise(100*ms).ramp() # generation of a white noise\nsound = sound.atlevel(level) # set the sound to a certain dB level\n\nnbr_center_frequencies = 50  # number of frequency channels in the filterbank\n# center frequencies with a spacing following an ERB scale\ncenter_frequencies = erbspace(100*Hz, 1000*Hz, nbr_center_frequencies)\n# bandwidth of the filters (different in each channel) \nbw = 10**(0.037+0.785*log10(center_frequencies/Hz))\n\ngammatone = ApproximateGammatone(sound, center_frequencies, bw, order=3) \n\ngt_mon = gammatone.process()\n\nfigure()\nimshow(flipud(gt_mon.T), aspect='auto')    \nshow()"
      ], 
      "outputs": [], 
      "metadata": {
        "collapsed": false
      }
    }
  ], 
  "metadata": {
    "kernelspec": {
      "display_name": "Python 2", 
      "name": "python2", 
      "language": "python"
    }, 
    "language_info": {
      "mimetype": "text/x-python", 
      "nbconvert_exporter": "python", 
      "name": "python", 
      "file_extension": ".py", 
      "version": "2.7.15", 
      "pygments_lexer": "ipython2", 
      "codemirror_mode": {
        "version": 2, 
        "name": "ipython"
      }
    }
  }
}