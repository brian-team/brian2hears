{
  "nbformat_minor": 0, 
  "nbformat": 4, 
  "cells": [
    {
      "execution_count": null, 
      "cell_type": "code", 
      "source": [
        "%matplotlib inline"
      ], 
      "outputs": [], 
      "metadata": {
        "collapsed": false
      }
    }, 
    {
      "source": [
        "\nCF-dependence of compressive nonlinearity in the Tan&Carney model\n-----------------------------------------------------------------\n\nReproduces Fig. 7 from:\n\nTan, Q., and L. H. Carney.\n    \"A Phenomenological Model for the Responses of Auditory-nerve Fibers.\n    II. Nonlinear Tuning with a Frequency Glide\".\n    The Journal of the Acoustical Society of America 114 (2003): 2007.\n\n"
      ], 
      "cell_type": "markdown", 
      "metadata": {}
    }, 
    {
      "execution_count": null, 
      "cell_type": "code", 
      "source": [
        "import numpy as np\nimport matplotlib.pyplot as plt\nfrom scipy.interpolate import interp1d\n\nfrom brian2 import *\nfrom brian2hears import *\nfrom brian2hears.filtering.tan_carney import TanCarneySignal, MiddleEar\n\nsamplerate = 50*kHz\nset_default_samplerate(samplerate)\nduration = 50*ms\n\ndef product(*args):\n    # Simple (and inefficient) variant of itertools.product that works for\n    # Python 2.5 (directly returns a list instead of yielding one item at a\n    # time)\n    pools = map(tuple, args)\n    result = [[]]\n    for pool in pools:\n        result = [x+[y] for x in result for y in pool]\n    return result\n\ndef gen_tone(freq, level):\n    ''' \n    Little helper function to generate a pure tone at frequency `freq` with\n    the given `level`. The tone has a duration of 50ms and is ramped with\n    two ramps of 2.5ms.\n    '''\n    freq = float(freq) * Hz\n    level = float(level) * dB    \n    return tone(freq, duration).ramp(when='both',\n                                     duration=2.5*ms,\n                                     inplace=False).atlevel(level)\n\nfreqs = [500, 1100, 2000, 4000]\nlevels = np.arange(-10, 100.1, 5)\ncf_level = product(freqs, levels)\n\n# steady-state\nstart = int(10*ms*samplerate)\nend = int(45*ms*samplerate)\n\n# For Figure 7 we have manually adjusts the gain for different CFs -- otherwise\n# the RMS values wouldn't be identical for low CFs. Therefore, try to estimate\n# suitable gain values first using the lowest CF as a reference\nref_tone = gen_tone(freqs[0], levels[0])\nF_out_reference = TanCarneySignal(MiddleEar(ref_tone, gain=1), freqs[0],\n                                  update_interval=1).process().flatten()\n\nref_rms = np.sqrt(np.mean((F_out_reference[start:end] -\n                           np.mean(F_out_reference[start:end]))**2))\n\ngains = np.linspace(0.1, 1, 50) # for higher CFs we need lower gains\ncf_gains = product(freqs[1:], gains)\ntones = Sound([gen_tone(freq, levels[0]) for freq, _ in cf_gains])\nF_out_test = TanCarneySignal(MiddleEar(tones, gain=np.array([g for _, g in cf_gains])),\n                             [cf for cf,_  in cf_gains], update_interval=1).process()\n\nreshaped_Fout = F_out_test.T.reshape((len(freqs[1:]), len(gains), -1))\nrms = np.sqrt(np.mean((reshaped_Fout[:, :, start:end].T -\n                       np.mean(reshaped_Fout[:, :, start:end], axis=2).T).T**2,\n                       axis=2))\n\n# get the best gain for each CF using simple linear interpolation\ngain_dict = {freqs[0]: 1.} # reference gain\nfor idx, freq in enumerate(freqs[1:]):\n    gain_dict[freq] = interp1d(rms[idx, :], gains)(ref_rms)\n\n# now do the real test: tones at different levels for different CFs\ntones = Sound([gen_tone(freq, level) for freq, level in cf_level])\nF_out = TanCarneySignal(MiddleEar(tones,\n                                  gain=np.array([gain_dict[cf] for cf, _ in cf_level])),\n                        [cf for cf, _ in cf_level],\n                        update_interval=1).process()\n\nreshaped_Fout = F_out.T.reshape((len(freqs), len(levels), -1))\n\nrms = np.sqrt(np.mean((reshaped_Fout[:, :, start:end].T -\n                      np.mean(reshaped_Fout[:, :, start:end], axis=2).T).T**2,\n                      axis=2))\n\n# This should more or less reproduce Fig. 7\nplt.plot(levels, rms.T)\nplt.legend(['%.0f Hz' % cf for cf in freqs], loc='best')\nplt.xlim(-20, 100)\nplt.ylim(1e-6, 1)\nplt.yscale('log')\nplt.xlabel('input signal SPL (dB)')\nplt.ylabel('rms of AC component of Fout')\nplt.show()"
      ], 
      "outputs": [], 
      "metadata": {
        "collapsed": false
      }
    }
  ], 
  "metadata": {
    "kernelspec": {
      "display_name": "Python 2", 
      "name": "python2", 
      "language": "python"
    }, 
    "language_info": {
      "mimetype": "text/x-python", 
      "nbconvert_exporter": "python", 
      "name": "python", 
      "file_extension": ".py", 
      "version": "2.7.15", 
      "pygments_lexer": "ipython2", 
      "codemirror_mode": {
        "version": 2, 
        "name": "ipython"
      }
    }
  }
}