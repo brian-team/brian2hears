{
  "nbformat_minor": 0, 
  "nbformat": 4, 
  "cells": [
    {
      "execution_count": null, 
      "cell_type": "code", 
      "source": [
        "%matplotlib inline"
      ], 
      "outputs": [], 
      "metadata": {
        "collapsed": false
      }
    }, 
    {
      "source": [
        "\nSpiking output of the Tan&Carney model\n--------------------------------------\nFig. 1 and 3 (spking output without spiking/refractory period) should\nreproduce the output of the AN3_test_tone.m and AN3_test_click.m\nscripts, available in the code accompanying the paper Tan & Carney (2003).\nThis matlab code is available from\nhttp://www.urmc.rochester.edu/labs/Carney-Lab/publications/auditory-models.cfm\n\nTan, Q., and L. H. Carney.\n\"A Phenomenological Model for the Responses of Auditory-nerve Fibers.\nII. Nonlinear Tuning with a Frequency Glide\".\nThe Journal of the Acoustical Society of America 114 (2003): 2007.\n\n"
      ], 
      "cell_type": "markdown", 
      "metadata": {}
    }, 
    {
      "execution_count": null, 
      "cell_type": "code", 
      "source": [
        "import numpy as np\nimport matplotlib.pyplot as plt\n\nfrom brian2 import *\nfrom brian2hears import (Sound, get_samplerate, set_default_samplerate, tone,\n                         click, silence, dB, TanCarney, MiddleEar, ZhangSynapse)\n\nset_default_samplerate(50*kHz)\nsample_length = 1 / get_samplerate(None)\ncf = 1000 * Hz\n\nprint('Testing click response')\nduration = 25*ms    \nlevels = [40, 60, 80, 100, 120]\n# a click of two samples\ntones = Sound([Sound.sequence([click(sample_length*2, peak=level*dB),\n                               silence(duration=duration - sample_length)])\n           for level in levels])\nihc = TanCarney(MiddleEar(tones), [cf] * len(levels), update_interval=1)\nsyn = ZhangSynapse(ihc, cf)\nmon = StateMonitor(syn, ['s', 'R'], record=True, clock=syn.clock)\nspike_mon = SpikeMonitor(syn)\nnet = Network(syn, mon, spike_mon)\nnet.run(duration * 1.5)\n\nspiketimes = spike_mon.spike_trains()\n\nfor idx, level in enumerate(levels):\n    plt.figure(1)\n    plt.subplot(len(levels), 1, idx + 1)\n    plt.plot(mon.t/ms, mon.s[idx])\n    plt.xlim(0, 25)\n    plt.xlabel('Time (msec)')\n    plt.ylabel('Sp/sec')\n    plt.text(15, np.nanmax(mon.s[idx])/2., 'Peak SPL=%s SPL' % str(level*dB));\n    ymin, ymax = plt.ylim()\n    if idx == 0:\n        plt.title('Click responses')\n\n    plt.figure(2)\n    plt.subplot(len(levels), 1, idx + 1)\n    plt.plot(mon.t/ms, mon.R[idx])\n    plt.xlabel('Time (msec)')\n    plt.xlabel('Time (msec)')\n    plt.text(15, np.nanmax(mon.s[idx])/2., 'Peak SPL=%s SPL' % str(level*dB));\n    plt.ylim(ymin, ymax)\n    if idx == 0:\n        plt.title('Click responses (with spikes and refractoriness)')\n    plt.plot(spiketimes[idx]/ms,\n         np.ones(len(spiketimes[idx])) * np.nanmax(mon.R[idx]), 'rx')\n\nprint('Testing tone response')\nduration = 60*ms    \nlevels = [0, 20, 40, 60, 80]\ntones = Sound([Sound.sequence([tone(cf, duration).atlevel(level*dB).ramp(when='both',\n                                                                         duration=10*ms,\n                                                                         inplace=False),\n                               silence(duration=duration/2)])\n               for level in levels])\nihc = TanCarney(MiddleEar(tones), [cf] * len(levels), update_interval=1)\nsyn = ZhangSynapse(ihc, cf)\nmon = StateMonitor(syn, ['s', 'R'], record=True, clock=syn.clock)\nspike_mon = SpikeMonitor(syn)\nnet = Network(syn, mon, spike_mon)\nnet.run(duration * 1.5)\n\nspiketimes = spike_mon.spike_trains()\n\nfor idx, level in enumerate(levels):\n    plt.figure(3)\n    plt.subplot(len(levels), 1, idx + 1)\n    plt.plot(mon.t/ms, mon.s[idx])\n    plt.xlim(0, 120)\n    plt.xlabel('Time (msec)')\n    plt.ylabel('Sp/sec')\n    plt.text(1.25 * duration/ms, np.nanmax(mon.s[idx])/2., '%s SPL' % str(level*dB));\n    ymin, ymax = plt.ylim()\n    if idx == 0:\n        plt.title('CF=%.0f Hz - Response to Tone at CF' % cf)\n\n    plt.figure(4)\n    plt.subplot(len(levels), 1, idx + 1)\n    plt.plot(mon.t/ms, mon.R[idx])\n    plt.xlabel('Time (msec)')\n    plt.xlabel('Time (msec)')\n    plt.text(1.25 * duration/ms, np.nanmax(mon.R[idx])/2., '%s SPL' % str(level*dB));\n    plt.ylim(ymin, ymax)\n    if idx == 0:\n        plt.title('CF=%.0f Hz - Response to Tone at CF (with spikes and refractoriness)' % cf)\n    plt.plot(spiketimes[idx] / ms,\n         np.ones(len(spiketimes[idx])) * np.nanmax(mon.R[idx]), 'rx')\n\nplt.show()"
      ], 
      "outputs": [], 
      "metadata": {
        "collapsed": false
      }
    }
  ], 
  "metadata": {
    "kernelspec": {
      "display_name": "Python 2", 
      "name": "python2", 
      "language": "python"
    }, 
    "language_info": {
      "mimetype": "text/x-python", 
      "nbconvert_exporter": "python", 
      "name": "python", 
      "file_extension": ".py", 
      "version": "2.7.15", 
      "pygments_lexer": "ipython2", 
      "codemirror_mode": {
        "version": 2, 
        "name": "ipython"
      }
    }
  }
}