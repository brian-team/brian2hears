{
  "nbformat_minor": 0,
  "nbformat": 4,
  "cells": [
    {
      "execution_count": null,
      "cell_type": "code",
      "source": [
        "%matplotlib inline"
      ],
      "outputs": [],
      "metadata": {
        "collapsed": false
      }
    },
    {
      "source": [
        "\nResponse area and phase response in the Tan&Carney model\n--------------------------------------------------------\nResponse area and phase response of a model fiber with CF=2200Hz in the \nTan&Carney model. Reproduces Fig. 11 from:\n\nTan, Q., and L. H. Carney.\n    \"A Phenomenological Model for the Responses of Auditory-nerve Fibers.\n    II. Nonlinear Tuning with a Frequency Glide\".\n    The Journal of the Acoustical Society of America 114 (2003): 2007.\n\n"
      ],
      "cell_type": "markdown",
      "metadata": {}
    },
    {
      "execution_count": null,
      "cell_type": "code",
      "source": [
        "import matplotlib.pyplot as plt\n",
        "import numpy as np\n",
        "\n",
        "from brian2 import *\n",
        "from brian2hears import *\n",
        "from six.moves import range as xrange\n",
        "\n",
        "def product(*args):\n",
        "    # Simple (and inefficient) variant of itertools.product that works for\n",
        "    # Python 2.5 (directly returns a list instead of yielding one item at a\n",
        "    # time)\n",
        "    pools = map(tuple, args)\n",
        "    result = [[]]\n",
        "    for pool in pools:\n",
        "        result = [x+[y] for x in result for y in pool]\n",
        "    return result\n",
        "\n",
        "duration = 50*ms\n",
        "samplerate = 50*kHz\n",
        "set_default_samplerate(samplerate)\n",
        "CF = 2200\n",
        "freqs = np.arange(250.0, 3501., 50.)\n",
        "levels = [10, 30, 50, 70, 90]\n",
        "cf_level = product(freqs, levels)\n",
        "tones = Sound([Sound.sequence([tone(freq * Hz, duration).atlevel(level*dB).ramp(when='both',\n",
        "                                                                                duration=2.5*ms,\n",
        "                                                                                inplace=False)])\n",
        "               for freq, level in cf_level])\n",
        "\n",
        "ihc = TanCarney(MiddleEar(tones), [CF] * len(cf_level), update_interval=2)\n",
        "syn = ZhangSynapse(ihc, CF)\n",
        "s_mon = StateMonitor(syn, 's', record=True, clock=syn.clock)\n",
        "net = Network(syn, s_mon)\n",
        "net.run(duration)\n",
        "\n",
        "reshaped = s_mon.s[:].reshape((len(freqs), len(levels), -1))\n",
        "\n",
        "# calculate the phase with respect to the stimulus\n",
        "pi = np.pi\n",
        "min_freq, max_freq = 1100, 2900\n",
        "freq_subset = freqs[(freqs>=min_freq) & (freqs<=max_freq)]\n",
        "reshaped_subset = reshaped[(freqs>=min_freq) & (freqs<=max_freq), :, :]\n",
        "phases = np.zeros((reshaped_subset.shape[0], len(levels)))\n",
        "for f_idx, freq in enumerate(freq_subset):\n",
        "    period = 1.0 / freq\n",
        "    for l_idx in xrange(len(levels)):\n",
        "        phase_angles = np.arange(reshaped_subset.shape[2])/float(samplerate) % period / period * 2*pi\n",
        "        temp_phases = (np.exp(1j * phase_angles) *\n",
        "                       reshaped_subset[f_idx, l_idx, :])\n",
        "        phases[f_idx, l_idx] = np.angle(np.sum(temp_phases))\n",
        "\n",
        "plt.subplot(2, 1, 1)\n",
        "rate = reshaped.mean(axis=2)\n",
        "plt.plot(freqs, rate)\n",
        "plt.ylabel('Spikes/sec')\n",
        "plt.legend(['%.0f dB' % level for level in levels], loc='best')\n",
        "plt.xlim(0, 4000)\n",
        "plt.ylim(0, 250)\n",
        "\n",
        "plt.subplot(2, 1, 2)\n",
        "relative_phases = (phases.T - phases[:, -1]).T\n",
        "relative_phases[relative_phases > pi] = relative_phases[relative_phases > pi] - 2*pi\n",
        "relative_phases[relative_phases < -pi] = relative_phases[relative_phases < -pi] + 2*pi \n",
        "plt.plot(freq_subset, relative_phases / pi)\n",
        "plt.ylabel(\"Phase Re:90dB (pi radians)\")\n",
        "plt.xlabel('Frequency (Hz)')\n",
        "plt.legend(['%.0f dB' % level for level in levels], loc='best')\n",
        "plt.xlim(0, 4000)\n",
        "plt.ylim(-0.5, 0.75)\n",
        "plt.show()"
      ],
      "outputs": [],
      "metadata": {
        "collapsed": false
      }
    }
  ],
  "metadata": {
    "kernelspec": {
      "display_name": "Python 2",
      "name": "python2",
      "language": "python"
    },
    "language_info": {
      "mimetype": "text/x-python",
      "nbconvert_exporter": "python",
      "name": "python",
      "file_extension": ".py",
      "version": "2.7.15",
      "pygments_lexer": "ipython2",
      "codemirror_mode": {
        "version": 2,
        "name": "ipython"
      }
    }
  }
}