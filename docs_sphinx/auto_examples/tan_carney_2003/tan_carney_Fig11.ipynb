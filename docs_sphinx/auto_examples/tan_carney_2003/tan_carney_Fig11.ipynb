{
  "nbformat_minor": 0, 
  "nbformat": 4, 
  "cells": [
    {
      "execution_count": null, 
      "cell_type": "code", 
      "source": [
        "%matplotlib inline"
      ], 
      "outputs": [], 
      "metadata": {
        "collapsed": false
      }
    }, 
    {
      "source": [
        "\nResponse area and phase response in the Tan&Carney model\n--------------------------------------------------------\nResponse area and phase response of a model fiber with CF=2200Hz in the \nTan&Carney model. Reproduces Fig. 11 from:\n\nTan, Q., and L. H. Carney.\n    \"A Phenomenological Model for the Responses of Auditory-nerve Fibers.\n    II. Nonlinear Tuning with a Frequency Glide\".\n    The Journal of the Acoustical Society of America 114 (2003): 2007.\n\n"
      ], 
      "cell_type": "markdown", 
      "metadata": {}
    }, 
    {
      "execution_count": null, 
      "cell_type": "code", 
      "source": [
        "import matplotlib.pyplot as plt\nimport numpy as np\n\nfrom brian2 import *\n# set_global_preferences(useweave=True)\nfrom brian2hears import *\nfrom six.moves import range as xrange\n\ndef product(*args):\n    # Simple (and inefficient) variant of itertools.product that works for\n    # Python 2.5 (directly returns a list instead of yielding one item at a\n    # time)\n    pools = map(tuple, args)\n    result = [[]]\n    for pool in pools:\n        result = [x+[y] for x in result for y in pool]\n    return result\n\nduration = 50*ms\nsamplerate = 50*kHz\nset_default_samplerate(samplerate)\nCF = 2200\nfreqs = np.arange(250.0, 3501., 50.)\nlevels = [10, 30, 50, 70, 90]\ncf_level = product(freqs, levels)\ntones = Sound([Sound.sequence([tone(freq * Hz, duration).atlevel(level*dB).ramp(when='both',\n                                                                                duration=2.5*ms,\n                                                                                inplace=False)])\n               for freq, level in cf_level])\n\nihc = TanCarney(MiddleEar(tones), [CF] * len(cf_level), update_interval=2)\nsyn = ZhangSynapse(ihc, CF)\ns_mon = StateMonitor(syn, 's', record=True, clock=syn.clock)\nnet = Network(syn, s_mon)\nnet.run(duration)\n\nreshaped = s_mon.s[:].reshape((len(freqs), len(levels), -1))\n\n# calculate the phase with respect to the stimulus\npi = np.pi\nmin_freq, max_freq = 1100, 2900\nfreq_subset = freqs[(freqs>=min_freq) & (freqs<=max_freq)]\nreshaped_subset = reshaped[(freqs>=min_freq) & (freqs<=max_freq), :, :]\nphases = np.zeros((reshaped_subset.shape[0], len(levels)))\nfor f_idx, freq in enumerate(freq_subset):\n    period = 1.0 / freq\n    for l_idx in xrange(len(levels)):\n        phase_angles = np.arange(reshaped_subset.shape[2])/float(samplerate) % period / period * 2*pi\n        temp_phases = (np.exp(1j * phase_angles) *\n                       reshaped_subset[f_idx, l_idx, :])\n        phases[f_idx, l_idx] = np.angle(np.sum(temp_phases))\n\nplt.subplot(2, 1, 1)\nrate = reshaped.mean(axis=2)\nplt.plot(freqs, rate)\nplt.ylabel('Spikes/sec')\nplt.legend(['%.0f dB' % level for level in levels], loc='best')\nplt.xlim(0, 4000)\nplt.ylim(0, 250)\n\nplt.subplot(2, 1, 2)\nrelative_phases = (phases.T - phases[:, -1]).T\nrelative_phases[relative_phases > pi] = relative_phases[relative_phases > pi] - 2*pi\nrelative_phases[relative_phases < -pi] = relative_phases[relative_phases < -pi] + 2*pi \nplt.plot(freq_subset, relative_phases / pi)\nplt.ylabel(\"Phase Re:90dB (pi radians)\")\nplt.xlabel('Frequency (Hz)')\nplt.legend(['%.0f dB' % level for level in levels], loc='best')\nplt.xlim(0, 4000)\nplt.ylim(-0.5, 0.75)\nplt.show()"
      ], 
      "outputs": [], 
      "metadata": {
        "collapsed": false
      }
    }
  ], 
  "metadata": {
    "kernelspec": {
      "display_name": "Python 2", 
      "name": "python2", 
      "language": "python"
    }, 
    "language_info": {
      "mimetype": "text/x-python", 
      "nbconvert_exporter": "python", 
      "name": "python", 
      "file_extension": ".py", 
      "version": "2.7.15", 
      "pygments_lexer": "ipython2", 
      "codemirror_mode": {
        "version": 2, 
        "name": "ipython"
      }
    }
  }
}