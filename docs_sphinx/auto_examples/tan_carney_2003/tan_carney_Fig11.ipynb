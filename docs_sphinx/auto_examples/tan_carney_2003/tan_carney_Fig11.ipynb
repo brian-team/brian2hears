{
  "cells": [
    {
      "cell_type": "code",
      "execution_count": null,
      "metadata": {
        "collapsed": false
      },
      "outputs": [],
      "source": [
        "%matplotlib inline"
      ]
    },
    {
      "cell_type": "markdown",
      "metadata": {},
      "source": [
        "\n# Response area and phase response in the Tan&Carney model\nResponse area and phase response of a model fiber with CF=2200Hz in the \nTan&Carney model. Reproduces Fig. 11 from:\n\nTan, Q., and L. H. Carney.\n    \"A Phenomenological Model for the Responses of Auditory-nerve Fibers.\n    II. Nonlinear Tuning with a Frequency Glide\".\n    The Journal of the Acoustical Society of America 114 (2003): 2007.\n"
      ]
    },
    {
      "cell_type": "code",
      "execution_count": null,
      "metadata": {
        "collapsed": false
      },
      "outputs": [],
      "source": [
        "import matplotlib.pyplot as plt\nimport numpy as np\n\nfrom brian2 import *\nfrom brian2hears import *\nfrom six.moves import range as xrange\n\ndef product(*args):\n    # Simple (and inefficient) variant of itertools.product that works for\n    # Python 2.5 (directly returns a list instead of yielding one item at a\n    # time)\n    pools = map(tuple, args)\n    result = [[]]\n    for pool in pools:\n        result = [x+[y] for x in result for y in pool]\n    return result\n\nduration = 50*ms\nsamplerate = 50*kHz\nset_default_samplerate(samplerate)\nCF = 2200\nfreqs = np.arange(250.0, 3501., 50.)*Hz\nlevels = [10, 30, 50, 70, 90]\ncf_level = product(freqs, levels)\ntones = Sound([Sound.sequence([tone(freq, duration).atlevel(level*dB).ramp(when='both',\n                                                                                duration=2.5*ms,\n                                                                                inplace=False)])\n               for freq, level in cf_level])\n\nihc = TanCarney(MiddleEar(tones), [CF] * len(cf_level), update_interval=2)\nsyn = ZhangSynapse(ihc, CF)\ns_mon = StateMonitor(syn, 's', record=True, clock=syn.clock)\nnet = Network(syn, s_mon)\nnet.run(duration)\n\nreshaped = s_mon.s[:].reshape((len(freqs), len(levels), -1))\n\n# calculate the phase with respect to the stimulus\npi = np.pi\nmin_freq, max_freq = 1100*Hz, 2900*Hz\nfreq_subset = freqs[(freqs>=min_freq) & (freqs<=max_freq)]\nreshaped_subset = reshaped[(freqs>=min_freq) & (freqs<=max_freq), :, :]\nphases = np.zeros((reshaped_subset.shape[0], len(levels)))\nfor f_idx, freq in enumerate(freq_subset):\n    period = 1.0 / freq\n    for l_idx in xrange(len(levels)):\n        phase_angles = np.arange(reshaped_subset.shape[2])/samplerate % period / period * 2*pi\n        temp_phases = (np.exp(1j * phase_angles) *\n                       reshaped_subset[f_idx, l_idx, :]/Hz)\n        phases[f_idx, l_idx] = np.angle(np.sum(temp_phases))\n\nplt.subplot(2, 1, 1)\nrate = reshaped.mean(axis=2)\nplt.plot(freqs, rate)\nplt.ylabel('Spikes/sec')\nplt.legend(['%.0f dB' % level for level in levels], loc='best')\nplt.xlim(0, 4000)\nplt.ylim(0, 250)\n\nplt.subplot(2, 1, 2)\nrelative_phases = (phases.T - phases[:, -1]).T\nrelative_phases[relative_phases > pi] = relative_phases[relative_phases > pi] - 2*pi\nrelative_phases[relative_phases < -pi] = relative_phases[relative_phases < -pi] + 2*pi \nplt.plot(freq_subset, relative_phases / pi)\nplt.ylabel(\"Phase Re:90dB (pi radians)\")\nplt.xlabel('Frequency (Hz)')\nplt.legend(['%.0f dB' % level for level in levels], loc='best')\nplt.xlim(0, 4000)\nplt.ylim(-0.5, 0.75)\nplt.show()"
      ]
    }
  ],
  "metadata": {
    "kernelspec": {
      "display_name": "Python 3",
      "language": "python",
      "name": "python3"
    },
    "language_info": {
      "codemirror_mode": {
        "name": "ipython",
        "version": 3
      },
      "file_extension": ".py",
      "mimetype": "text/x-python",
      "name": "python",
      "nbconvert_exporter": "python",
      "pygments_lexer": "ipython3",
      "version": "3.8.6"
    }
  },
  "nbformat": 4,
  "nbformat_minor": 0
}