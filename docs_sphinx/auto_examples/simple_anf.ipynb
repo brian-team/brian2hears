{
  "nbformat_minor": 0, 
  "nbformat": 4, 
  "cells": [
    {
      "execution_count": null, 
      "cell_type": "code", 
      "source": [
        "%matplotlib inline"
      ], 
      "outputs": [], 
      "metadata": {
        "collapsed": false
      }
    }, 
    {
      "source": [
        "\nAuditory nerve fibre model\n--------------------------\nExample of a simple auditory nerve fibre model with Brian hears.\n\n"
      ], 
      "cell_type": "markdown", 
      "metadata": {}
    }, 
    {
      "execution_count": null, 
      "cell_type": "code", 
      "source": [
        "from brian2 import *\nfrom brian2hears import *\n\nsound1 = tone(1*kHz, .1*second)\nsound2 = whitenoise(.1*second)\n\nsound = sound1+sound2\nsound = sound.ramp()\n\ncf = erbspace(20*Hz, 20*kHz, 3000)\ncochlea = Gammatone(sound, cf)\n\n# Half-wave rectification and compression [x]^(1/3)\nihc = FunctionFilterbank(cochlea, lambda x: 3*clip(x, 0, Inf)**(1.0/3.0))\n\n# Leaky integrate-and-fire model with noise and refractoriness\neqs = '''\ndv/dt = (I-v)/(1*ms)+0.2*xi*(2/(1*ms))**.5 : 1 (unless refractory)\nI : 1\n'''\nanf = FilterbankGroup(ihc, 'I', eqs, reset='v=0', threshold='v>1', refractory=5*ms, method='euler')\n\nM = SpikeMonitor(anf)\nrun(sound.duration)\nplot(M.t/ms, M.i, ',k')\nshow()"
      ], 
      "outputs": [], 
      "metadata": {
        "collapsed": false
      }
    }
  ], 
  "metadata": {
    "kernelspec": {
      "display_name": "Python 2", 
      "name": "python2", 
      "language": "python"
    }, 
    "language_info": {
      "mimetype": "text/x-python", 
      "nbconvert_exporter": "python", 
      "name": "python", 
      "file_extension": ".py", 
      "version": "2.7.15", 
      "pygments_lexer": "ipython2", 
      "codemirror_mode": {
        "version": 2, 
        "name": "ipython"
      }
    }
  }
}