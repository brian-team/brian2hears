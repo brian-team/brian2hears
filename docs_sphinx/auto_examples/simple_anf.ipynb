{
  "cells": [
    {
      "cell_type": "code",
      "execution_count": null,
      "metadata": {
        "collapsed": false
      },
      "outputs": [],
      "source": [
        "%matplotlib inline"
      ]
    },
    {
      "cell_type": "markdown",
      "metadata": {},
      "source": [
        "\n# Auditory nerve fibre model\nExample of a simple auditory nerve fibre model with Brian hears.\n"
      ]
    },
    {
      "cell_type": "code",
      "execution_count": null,
      "metadata": {
        "collapsed": false
      },
      "outputs": [],
      "source": [
        "from brian2 import *\nfrom brian2hears import *\n\nsound1 = tone(1*kHz, .1*second)\nsound2 = whitenoise(.1*second)\n\nsound = sound1+sound2\nsound = sound.ramp()\n\ncf = erbspace(20*Hz, 20*kHz, 3000)\ncochlea = Gammatone(sound, cf)\n\n# Half-wave rectification and compression [x]^(1/3)\nihc = FunctionFilterbank(cochlea, lambda x: 3*clip(x, 0, Inf)**(1.0/3.0))\n\n# Leaky integrate-and-fire model with noise and refractoriness\neqs = '''\ndv/dt = (I-v)/(1*ms)+0.2*xi*(2/(1*ms))**.5 : 1 (unless refractory)\nI : 1\n'''\nanf = FilterbankGroup(ihc, 'I', eqs, reset='v=0', threshold='v>1', refractory=5*ms, method='euler')\n\nM = SpikeMonitor(anf)\nrun(sound.duration)\nplot(M.t/ms, M.i, ',k')\nshow()"
      ]
    }
  ],
  "metadata": {
    "kernelspec": {
      "display_name": "Python 3",
      "language": "python",
      "name": "python3"
    },
    "language_info": {
      "codemirror_mode": {
        "name": "ipython",
        "version": 3
      },
      "file_extension": ".py",
      "mimetype": "text/x-python",
      "name": "python",
      "nbconvert_exporter": "python",
      "pygments_lexer": "ipython3",
      "version": "3.8.6"
    }
  },
  "nbformat": 4,
  "nbformat_minor": 0
}