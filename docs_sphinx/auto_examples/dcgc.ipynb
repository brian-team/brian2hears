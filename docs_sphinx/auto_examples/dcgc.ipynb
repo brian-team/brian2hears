{
  "cells": [
    {
      "cell_type": "code",
      "execution_count": null,
      "metadata": {
        "collapsed": false
      },
      "outputs": [],
      "source": [
        "%matplotlib inline"
      ]
    },
    {
      "cell_type": "markdown",
      "metadata": {},
      "source": [
        "\n# Compressive Gammachirp filter (DCGC)\nImplementation example of the compressive gammachirp auditory filter as\ndescribed in Irino, T. and Patterson R., \"A compressive gammachirp auditory\nfilter for both physiological and psychophysical data\", JASA 2001.\n\nA class called :class:`~brian2hears.DCGC` implementing this model is available\nin the library.\n\nTechnical implementation details and notation can be found in Irino, T. and\nPatterson R., \"A Dynamic Compressive Gammachirp Auditory Filterbank\",\nIEEE Trans Audio Speech Lang Processing.\n"
      ]
    },
    {
      "cell_type": "code",
      "execution_count": null,
      "metadata": {
        "collapsed": false
      },
      "outputs": [],
      "source": [
        "from brian2 import *\nfrom brian2hears import *\n\nsimulation_duration = 50*ms\nsamplerate = 50*kHz\nlevel = 50*dB # level of the input sound in rms dB SPL\nsound = whitenoise(simulation_duration, samplerate).ramp()\nsound = sound.atlevel(level)\n\nnbr_cf = 50 # number of centre frequencies\n# center frequencies with a spacing following an ERB scale\ncf = erbspace(100*Hz, 1000*Hz, nbr_cf)\n\nc1 = -2.96 #glide slope of the first filterbank\nb1 = 1.81  #factor determining the time constant of the first filterbank\nc2 = 2.2   #glide slope of the second filterbank\nb2 = 2.17  #factor determining the time constant of the second filterbank\n\norder_ERB = 4\nERBrate = 21.4*log10(4.37*(cf/kHz)+1)\nERBwidth = 24.7*(4.37*(cf/kHz) + 1)\nERBspace = mean(diff(ERBrate))\n\n# the filter coefficients are updated every update_interval (here in samples)\nupdate_interval = 1\n\n                  \n\n#bank of passive gammachirp filters. As the control path uses the same passive\n#filterbank than the signal path (but shifted in frequency)\n#this filterbank is used by both pathway.\npGc = LogGammachirp(sound, cf, b=b1, c=c1)\n\nfp1 = asarray(cf) + c1*ERBwidth*b1/order_ERB #centre frequency of the signal path\n\n#### Control Path ####\n\n#the first filterbank in the control path consists of gammachirp filters\n#value of the shift in ERB frequencies of the control path with respect to the signal path\nlct_ERB = 1.5\nn_ch_shift = round(lct_ERB/ERBspace) #value of the shift in channels\n#index of the channel of the control path taken from pGc\nindch1_control = minimum(maximum(1, arange(1, nbr_cf+1)+n_ch_shift), nbr_cf).astype(int)-1 \nfp1_control = fp1[indch1_control]\n#the control path bank pass filter uses the channels of pGc indexed by indch1_control\npGc_control = RestructureFilterbank(pGc, indexmapping=indch1_control)\n\n#the second filterbank in the control path consists of fixed asymmetric compensation filters\nfrat_control = 1.08\nfr2_control = frat_control*fp1_control\nasym_comp_control = AsymmetricCompensation(pGc_control, fr2_control, b=b2, c=c2)\n\n#definition of the pole of the asymmetric comensation filters\np0 = 2\np1 = 1.7818*(1-0.0791*b2)*(1-0.1655*abs(c2))\np2 = 0.5689*(1-0.1620*b2)*(1-0.0857*abs(c2))\np3 = 0.2523*(1-0.0244*b2)*(1+0.0574*abs(c2))\np4 = 1.0724\n\n#definition of the parameters used in the control path output levels computation\n#(see IEEE paper for details)\ndecay_tcst = .5*ms\norder = 1.\nlev_weight = .5\nlevel_ref = 50.\nlevel_pwr1 = 1.5\nlevel_pwr2 = .5\nRMStoSPL = 30.\nfrat0 = .2330\nfrat1 = .005 \nexp_deca_val = exp(-1/(decay_tcst*samplerate)*log(2))\nlevel_min = 10**(-RMStoSPL/20)\n\n#definition of the controller class. What is does it take the outputs of the\n#first and second fitlerbanks of the control filter as input, compute an overall\n#intensity level for each frequency channel. It then uses those level to update\n#the filter coefficient of its target, the asymmetric compensation filterbank of\n#the signal path.\nclass CompensensationFilterUpdater(object): \n    def __init__(self, target):\n        self.target = target\n        self.level1_prev = -100\n        self.level2_prev = -100\n        \n    def __call__(self, *input):\n         value1 = input[0][-1,:]\n         value2 = input[1][-1,:]\n         #the current level value is chosen as the max between the current\n         #output and the previous one decreased by a decay\n         level1 = maximum(maximum(value1, 0), self.level1_prev*exp_deca_val) \n         level2 = maximum(maximum(value2, 0), self.level2_prev*exp_deca_val)\n\n         self.level1_prev = level1 #the value is stored for the next iteration\n         self.level2_prev = level2\n         #the overall intensity is computed between the two filterbank outputs\n         level_total = lev_weight*level_ref*(level1/level_ref)**level_pwr1+\\\n                   (1-lev_weight)*level_ref*(level2/level_ref)**level_pwr2\n         #then it is converted in dB\n         level_dB = 20*log10(maximum(level_total, level_min))+RMStoSPL\n         #the frequency factor is calculated           \n         frat = frat0 + frat1*level_dB\n         #the centre frequency of the asymmetric compensation filters are updated       \n         fr2 = fp1*frat\n         coeffs = asymmetric_compensation_coeffs(samplerate, fr2,\n                        self.target.filt_b, self.target.filt_a, b2, c2,\n                        p0, p1, p2, p3, p4)\n         self.target.filt_b, self.target.filt_a = coeffs                 \n\n#### Signal Path ####\n#the signal path consists of the passive gammachirp filterbank pGc previously\n#defined followed by a asymmetric compensation filterbank\nfr1 = fp1*frat0\nvaryingfilter_signal_path = AsymmetricCompensation(pGc, fr1, b=b2, c=c2)\nupdater = CompensensationFilterUpdater(varyingfilter_signal_path)\n #the controler which takes the two filterbanks of the control path as inputs\n #and the varying filter of the signal path as target is instantiated\ncontrol = ControlFilterbank(varyingfilter_signal_path,\n                            [pGc_control, asym_comp_control],\n                            varyingfilter_signal_path, updater, update_interval)  \n\n#run the simulation\n#Remember that the controler are at the end of the chain and the output of the\n#whole path comes from them\nsignal = control.process() \n\nfigure()\nimshow(flipud(signal.T), aspect='auto')    \nshow()"
      ]
    }
  ],
  "metadata": {
    "kernelspec": {
      "display_name": "Python 3",
      "language": "python",
      "name": "python3"
    },
    "language_info": {
      "codemirror_mode": {
        "name": "ipython",
        "version": 3
      },
      "file_extension": ".py",
      "mimetype": "text/x-python",
      "name": "python",
      "nbconvert_exporter": "python",
      "pygments_lexer": "ipython3",
      "version": "3.8.6"
    }
  },
  "nbformat": 4,
  "nbformat_minor": 0
}